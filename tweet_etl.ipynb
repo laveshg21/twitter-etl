{
 "cells": [
  {
   "cell_type": "code",
   "execution_count": 3,
   "id": "f1fe41ec",
   "metadata": {},
   "outputs": [],
   "source": [
    "import tweepy\n",
    "import pandas as pd \n",
    "import json\n",
    "from datetime import datetime\n",
    "import s3fs "
   ]
  },
  {
   "cell_type": "code",
   "execution_count": 4,
   "id": "e3e25e7e",
   "metadata": {},
   "outputs": [],
   "source": [
    "access_key = \"phE0JeL2pm7ORaYErUFWvVWDg\" \n",
    "access_secret = \"Pf0bUZHRhrpq7eBW9qlITRsAfVJT4HOnoRNcECHsqcjXZDIyL0\" \n",
    "consumer_key = \"971060216820260864-63bcNdiWhh1k6BIzm3Rwj24E8XbFtPO\"\n",
    "consumer_secret = \"uBLNH2DAYCT5DrEdInZZg8jA2bIlf2e9XfV0ce3vMDQnN\"\n",
    "\n",
    "\n",
    "# Twitter authentication and connecting to twitter API\n",
    "auth = tweepy.OAuthHandler(access_key, access_secret)   \n",
    "auth.set_access_token(consumer_key, consumer_secret)\n",
    "\n",
    "# Creating an API object \n",
    "api = tweepy.API(auth)\n"
   ]
  },
  {
   "cell_type": "code",
   "execution_count": 5,
   "id": "5ea23d2c",
   "metadata": {},
   "outputs": [],
   "source": [
    "tweets = api.user_timeline(screen_name='@IITKanpur', \n",
    "                            count=1000,\n",
    "                            include_rts = False,\n",
    "                            tweet_mode = 'extended'\n",
    "                            )\n",
    "\n",
    "# 200 is the maximum allowed count so can't do anything about it.\n",
    "# Extended tweet mode is necessary to keep full text else only first 140 words are extracted"
   ]
  },
  {
   "cell_type": "code",
   "execution_count": null,
   "id": "36d62fe6",
   "metadata": {},
   "outputs": [],
   "source": [
    "# to check if connection with twitter api is made correctly\n",
    "print(tweets)"
   ]
  },
  {
   "cell_type": "code",
   "execution_count": 6,
   "id": "98fcd738",
   "metadata": {},
   "outputs": [],
   "source": [
    "tweet_list = []\n",
    "for tweet in tweets:\n",
    "    text = tweet._json[\"full_text\"]\n",
    "\n",
    "    refined_tweet = {\"user\": tweet.user.screen_name,\n",
    "                    'text' : text,\n",
    "                    'favorite_count' : tweet.favorite_count,\n",
    "                    'retweet_count' : tweet.retweet_count,\n",
    "                    'created_at' : tweet.created_at}\n",
    "        \n",
    "    tweet_list.append(refined_tweet)"
   ]
  },
  {
   "cell_type": "code",
   "execution_count": 7,
   "id": "2b35788e",
   "metadata": {},
   "outputs": [],
   "source": [
    "df = pd.DataFrame(tweet_list)"
   ]
  },
  {
   "cell_type": "code",
   "execution_count": 8,
   "id": "c9d93017",
   "metadata": {},
   "outputs": [],
   "source": [
    "df.to_csv('iitk_twitter_data.csv')"
   ]
  },
  {
   "cell_type": "code",
   "execution_count": null,
   "id": "d7b636fc",
   "metadata": {},
   "outputs": [],
   "source": [
    "# to check if data frame is made\n",
    "print(df)"
   ]
  },
  {
   "cell_type": "code",
   "execution_count": 10,
   "id": "279f2175",
   "metadata": {},
   "outputs": [
    {
     "data": {
      "image/png": "[encoded data removed]",
      "text/plain": [
       "<Figure size 432x288 with 1 Axes>"
      ]
     },
     "metadata": {
      "needs_background": "light"
     },
     "output_type": "display_data"
    }
   ],
   "source": [
    "import matplotlib.pyplot as plt\n",
    "df.plot(kind = 'scatter', x = 'favorite_count', y = 'retweet_count')\n",
    "plt.show()"
   ]
  },
  {
   "cell_type": "code",
   "execution_count": 15,
   "id": "623a605e",
   "metadata": {},
   "outputs": [
    {
     "data": {
      "text/plain": [
       "<AxesSubplot:ylabel='Frequency'>"
      ]
     },
     "execution_count": 15,
     "metadata": {},
     "output_type": "execute_result"
    },
    {
     "data": {
      "image/png": "[encoded data removed]",
      "text/plain": [
       "<Figure size 432x288 with 1 Axes>"
      ]
     },
     "metadata": {
      "needs_background": "light"
     },
     "output_type": "display_data"
    }
   ],
   "source": [
    "df[\"retweet_count\"].plot(kind = 'hist', y = 'favorite_count')"
   ]
  },
  {
   "cell_type": "code",
   "execution_count": null,
   "id": "f8b2b121",
   "metadata": {},
   "outputs": [],
   "source": []
  }
 ],
 "metadata": {
  "kernelspec": {
   "display_name": "Python 3 (ipykernel)",
   "language": "python",
   "name": "python3"
  },
  "language_info": {
   "codemirror_mode": {
    "name": "ipython",
    "version": 3
   },
   "file_extension": ".py",
   "mimetype": "text/x-python",
   "name": "python",
   "nbconvert_exporter": "python",
   "pygments_lexer": "ipython3",
   "version": "3.7.3"
  }
 },
 "nbformat": 4,
 "nbformat_minor": 5
}
